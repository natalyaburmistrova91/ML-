{
 "cells": [
  {
   "cell_type": "markdown",
   "metadata": {},
   "source": [
    "### Урок 6. #Задача lookalike (Positive Unlabeled Learning)#"
   ]
  },
  {
   "cell_type": "markdown",
   "metadata": {},
   "source": [
    "Программа урока:\n",
    "1. Теоретическая часть:\n",
    "\n",
    "     - Задача обучения с учителем (повторение)\n",
    "     - Примеры кейсов, когда разметка содержит только наблюдения положительного класса\n",
    "     - Какие задачи не относятся к lookalike\n",
    "\n",
    "\n",
    "2. Практическая часть\n",
    "    - Метод решения random negative sampling\n",
    "    - Метод 2-step approach\n",
    "    - Метод spy\n",
    "    - Сравнение методов между собой на датасете, для которого метки известны\n",
    "    - Сравнение лучшего метода с моделью, построенной на данных, для которых известны метки всех классов"
   ]
  },
  {
   "cell_type": "markdown",
   "metadata": {},
   "source": [
    "![ab_split](supervised_learning.png \"churn1\")"
   ]
  },
  {
   "cell_type": "markdown",
   "metadata": {},
   "source": [
    "Т.е в \"стандартной\" постановке задачи обучения с учителем у нас есть разметка.\n",
    "\n",
    "Например, если мы решаем задачу бинарной классификации, то у нас есть объекты с метками обоих классов (positive/negative)."
   ]
  },
  {
   "cell_type": "markdown",
   "metadata": {},
   "source": [
    "На практике часто бывает так, что мы сравнительно легко можем определить объекты одного класса (дпопустим, мы легко понимаем, какие объекты можно назвать положительными), но при этом возникают сложности с определением объектов другого класса (негативы)."
   ]
  },
  {
   "cell_type": "markdown",
   "metadata": {},
   "source": [
    "Речь идет именно о формировании датасета!"
   ]
  },
  {
   "cell_type": "markdown",
   "metadata": {},
   "source": [
    "Примеры задач:\n",
    "\n",
    "- Продвижение услуг и приложений\n",
    "- Выделение сегмента пользователей, которые совершат нужное нам целевое действие\n",
    "\n",
    "Отдельный момент - каналы взаимодействия с пользователями (смс, пуши, реклама в соцсетях, звонки и т.д)"
   ]
  },
  {
   "cell_type": "markdown",
   "metadata": {},
   "source": [
    "#### Какие задачи не относятся к PU Learning"
   ]
  },
  {
   "cell_type": "markdown",
   "metadata": {},
   "source": [
    "- Small-training dataset\n",
    "- Outlier detection"
   ]
  },
  {
   "cell_type": "markdown",
   "metadata": {},
   "source": [
    "#### Поиск выбросов"
   ]
  },
  {
   "cell_type": "markdown",
   "metadata": {},
   "source": [
    "![ab_split](outlier.png \"outliers\")"
   ]
  },
  {
   "cell_type": "markdown",
   "metadata": {},
   "source": [
    "#### Пример задачи"
   ]
  },
  {
   "cell_type": "markdown",
   "metadata": {},
   "source": [
    "![ab_split](example1.png \"example1\")"
   ]
  },
  {
   "cell_type": "markdown",
   "metadata": {},
   "source": [
    "Пример: есть сегмент пользователей, которым нравится футбол. Мы хотим находить \"похожих\".\n",
    "\n",
    "Возможное (очевидное) решение - построить бинарный классификатор, который будет отличать тех, кому нравится футбол от тех, кому он не нравится.\n",
    "\n",
    "Проблема - нет понимания что считать \"негативами\""
   ]
  },
  {
   "cell_type": "markdown",
   "metadata": {},
   "source": [
    "Чуть ближе к ML"
   ]
  },
  {
   "cell_type": "markdown",
   "metadata": {},
   "source": [
    "![ab_split](example2.png \"example2\")"
   ]
  },
  {
   "cell_type": "markdown",
   "metadata": {},
   "source": [
    "### Более формальное описание задачи"
   ]
  },
  {
   "cell_type": "markdown",
   "metadata": {},
   "source": [
    "1. оценивается вероятность того, что пользователь совершит некоторое целевое действие (приобретение подписки, установка или регистрация в приложении и т.д)\n",
    "2. У нас есть только те, кто совершил это действие - это positives. При этом нет определения того, что такое negative. Все, кроме P - Unlabeled (U)\n",
    "3. Нам нужно как-то собрать выборку и обучить модель, которая будет отличать P от N \n",
    "\n",
    "Получаем такие обозначения: P, U, N (в начале есть только первые 2)"
   ]
  },
  {
   "cell_type": "markdown",
   "metadata": {},
   "source": [
    "Еще пример"
   ]
  },
  {
   "cell_type": "markdown",
   "metadata": {},
   "source": [
    "![ab_split](example3.png \"example3\")"
   ]
  },
  {
   "cell_type": "markdown",
   "metadata": {},
   "source": [
    "### Пример"
   ]
  },
  {
   "cell_type": "markdown",
   "metadata": {},
   "source": [
    "- Есть «хорошие» пользователи, совершившие целевое действие - P\n",
    "- Для них мы храним логи + дополнительную информацию\n",
    "- Также у нас есть хранилище признаков для каждого пользователя\n",
    "- Все, что не P, относится к неразмеченным - U\n",
    "\n",
    "\n",
    "Задача: построить модель, которая будет определять степень принадлежности пользователя x к P (вероятность p(y=1|x) или что-то вроде)\n",
    "\n",
    "\n",
    "Например (во второй половине занятия будет практика), мы работаем в ритейле и хотим устроить распродажу чая. При этом хотим делать это адресно (а не случайно формируя сегмент).\n",
    "\n",
    "Мы можем отобрать из базы клиентов, которые покупали чай ранее (скорее всего эффективность распродажи для них будет экономически эффективнее). Проблемы:\n",
    "- таких клиентов набирается мало\n",
    "- если клиент не покупал чай, то это вовсе не означает, что он (чай) клиенту не нравится\n",
    "- определенно есть те, кто предпочитает кофе (или просто не любит чай)\n",
    "\n",
    "Получаем пример задачи, которую можно решать как задачу lookalike"
   ]
  },
  {
   "cell_type": "markdown",
   "metadata": {},
   "source": [
    "Мы не будем рассматривать варианты с обучением без учителя (теоретически вполне себе возможно)"
   ]
  },
  {
   "cell_type": "markdown",
   "metadata": {},
   "source": [
    "Обучение на PU данных нетривиально. Существует 2 возможных объяснения, почему конкретный объект не имеет метки класса:\n",
    "1. это объект класса 0 (True negative)\n",
    "2. это объект класса 1, но просто неразмеченный"
   ]
  },
  {
   "cell_type": "markdown",
   "metadata": {},
   "source": [
    "### PU learning (варианты решения)"
   ]
  },
  {
   "cell_type": "markdown",
   "metadata": {},
   "source": [
    "1. Random negative sampling\n",
    "2. 2-step approach\n",
    "3. SPY\n",
    "4. … (много других)"
   ]
  },
  {
   "cell_type": "markdown",
   "metadata": {},
   "source": [
    "Другие обозначения:\n",
    "\n",
    "1. random negative sampling -> The Selected Completely At Random (SCAR)\n"
   ]
  },
  {
   "cell_type": "markdown",
   "metadata": {},
   "source": [
    "### 1. Random negative sampling"
   ]
  },
  {
   "cell_type": "markdown",
   "metadata": {},
   "source": [
    "![ab_split](pu_random.png \"PU random\")"
   ]
  },
  {
   "cell_type": "markdown",
   "metadata": {},
   "source": [
    "### 2-step approach"
   ]
  },
  {
   "cell_type": "markdown",
   "metadata": {},
   "source": [
    "![ab_split](pu_2step.png \"PU 2-step\")"
   ]
  },
  {
   "cell_type": "markdown",
   "metadata": {},
   "source": [
    "#### Или словами:"
   ]
  },
  {
   "cell_type": "markdown",
   "metadata": {},
   "source": [
    "1. определяем RN (reliable negatives). Здесь же бывают алгоритмы, в которых также размечаются дополнительно positives из множества Unlabeled (U). \n",
    "2. Используем метод обучения с учителем (на самом деле, не совсем - это называется semi-supervised) для обучения классификатора на P, RN\n",
    "3. (когда применимо) Выбирается лучший классификатор с шага 2"
   ]
  },
  {
   "cell_type": "markdown",
   "metadata": {},
   "source": [
    "### 3. алгоритм Spy"
   ]
  },
  {
   "cell_type": "markdown",
   "metadata": {},
   "source": [
    "![ab_split](pu_spy.png \"PU Spy\")"
   ]
  },
  {
   "cell_type": "markdown",
   "metadata": {},
   "source": [
    "#### Небольшие пояснения"
   ]
  },
  {
   "cell_type": "markdown",
   "metadata": {},
   "source": [
    "- random negative sampling основан на предположении, что размеченные данные являются iid выборкой из множества положительных примеров\n",
    "\n",
    "iid - Independent and identically distributed (примеры независимы и одинаково распределены)\n",
    "\n",
    "- random negative sampling очень популярен, но главным образом благодаря тому, что проблема в итоге сводится к задаче бинарной классификации"
   ]
  },
  {
   "cell_type": "markdown",
   "metadata": {},
   "source": [
    "Ниже на картинке пример, если размеченные данные (Labeled Positive) выбраны независимо и равновероятно из генеральной совокупности (множества всех позитивов - Unlabeled Positive)"
   ]
  },
  {
   "cell_type": "markdown",
   "metadata": {},
   "source": [
    "![ab_split](PU_SCAR.png \"PU SCAR\")"
   ]
  },
  {
   "cell_type": "markdown",
   "metadata": {},
   "source": [
    "Ниже на картинке пример, где мы уже видим, что семплирование смещено. "
   ]
  },
  {
   "cell_type": "markdown",
   "metadata": {},
   "source": [
    "![ab_split](PU_SAR.png \"PU SAR\")"
   ]
  },
  {
   "cell_type": "markdown",
   "metadata": {},
   "source": [
    "#### Есть и более простой способ - разметить все неразмеченные данные как Negatives!"
   ]
  },
  {
   "cell_type": "markdown",
   "metadata": {},
   "source": [
    "Но конечно такой метод на практике почти не используется, хотя и очень прост и понятен."
   ]
  },
  {
   "cell_type": "markdown",
   "metadata": {},
   "source": [
    "### Ссылки"
   ]
  },
  {
   "cell_type": "markdown",
   "metadata": {},
   "source": [
    "1. https://arxiv.org/pdf/1811.04820.pdf"
   ]
  },
  {
   "cell_type": "markdown",
   "metadata": {},
   "source": [
    "### Пример"
   ]
  },
  {
   "cell_type": "markdown",
   "metadata": {},
   "source": [
    "1. сгенерируем игрушечный датасет из двух множеств так, чтобы они немного пересекались с помощью https://scikit-learn.org/stable/modules/generated/sklearn.datasets.make_blobs.html#sklearn.datasets.make_blobs"
   ]
  },
  {
   "cell_type": "code",
   "execution_count": 1,
   "metadata": {},
   "outputs": [],
   "source": [
    "from __future__ import division, print_function\n",
    "import numpy as np\n",
    "%matplotlib inline\n",
    "import matplotlib.pylab as plt\n",
    "from sklearn.datasets import make_blobs\n",
    "from sklearn.tree import DecisionTreeClassifier\n",
    "from sklearn.metrics import precision_recall_curve"
   ]
  },
  {
   "cell_type": "markdown",
   "metadata": {},
   "source": [
    "2. Нарисуем график с нашими и данными. Часть данных (250 примеров) размечена как позитивы, остальные - неразмечены"
   ]
  },
  {
   "cell_type": "code",
   "execution_count": 2,
   "metadata": {},
   "outputs": [
    {
     "name": "stdout",
     "output_type": "stream",
     "text": [
      "labeled samples: 250\n"
     ]
    },
    {
     "data": {
      "text/plain": [
       "<matplotlib.legend.Legend at 0x133e764a8>"
      ]
     },
     "execution_count": 2,
     "metadata": {},
     "output_type": "execute_result"
    },
    {
     "data": {
      "image/png": "[encoded data removed]",
      "text/plain": [
       "<Figure size 720x468 with 1 Axes>"
      ]
     },
     "metadata": {
      "needs_background": "light"
     },
     "output_type": "display_data"
    }
   ],
   "source": [
    "N = 5000\n",
    "known_labels_ratio = 0.1\n",
    "X, y = make_blobs(n_samples=N, centers=2, \n",
    "                  n_features=2, shuffle=True, \n",
    "                  cluster_std=2.0, random_state=42)\n",
    "rp = np.random.permutation(int(N/2))\n",
    "data_P = X[y==1][rp[:int(len(rp)*known_labels_ratio)]]\n",
    "data_U = np.concatenate((X[y==1][rp[int(len(rp)*known_labels_ratio):]], X[y==0]), axis=0)\n",
    "print(\"labeled samples: %d\" % (data_P.shape[0]))\n",
    "plt.figure(figsize=(10, 6.5))\n",
    "plt.scatter(data_U[:, 0], data_U[:, 1], c='k', marker='.', linewidth=1, s=1, alpha=0.5, label='Unlabeled')\n",
    "plt.scatter(data_P[:, 0], data_P[:, 1], c='b', marker='o', linewidth=0, s=20, alpha=0.5, label='Positive')\n",
    "plt.grid()\n",
    "plt.legend()"
   ]
  },
  {
   "cell_type": "markdown",
   "metadata": {},
   "source": [
    "3. Обучим 1000 деревьев решений, используя bagging\n",
    "4. Предсказания делаем oob (out-of-the-bag) и затем для каждого примера мы все прогнозы усредняем"
   ]
  },
  {
   "cell_type": "markdown",
   "metadata": {},
   "source": [
    "Что такое bagging (ссылка - https://en.wikipedia.org/wiki/Bootstrap_aggregating)"
   ]
  },
  {
   "cell_type": "markdown",
   "metadata": {},
   "source": [
    "![ab_split](bagging.png \"bagging\")"
   ]
  },
  {
   "cell_type": "code",
   "execution_count": 3,
   "metadata": {},
   "outputs": [],
   "source": [
    "NP = data_P.shape[0]\n",
    "NU = data_U.shape[0]\n",
    "\n",
    "T = 1000\n",
    "K = NP\n",
    "train_label = np.zeros(shape=(NP+K,))\n",
    "train_label[:NP] = 1.0\n",
    "n_oob = np.zeros(shape=(NU,))\n",
    "f_oob = np.zeros(shape=(NU, 2))\n",
    "for i in range(T):\n",
    "    # Bootstrap resample\n",
    "    bootstrap_sample = np.random.choice(np.arange(NU), replace=True, size=K)\n",
    "    # Positive set + bootstrapped unlabeled set\n",
    "    data_bootstrap = np.concatenate((data_P, data_U[bootstrap_sample, :]), axis=0)\n",
    "    # Train model\n",
    "    model = DecisionTreeClassifier(max_depth=None, max_features=None, \n",
    "                                   criterion='gini', class_weight='balanced')\n",
    "    model.fit(data_bootstrap, train_label)\n",
    "    # Index for the out of the bag (oob) samples\n",
    "    idx_oob = sorted(set(range(NU)) - set(np.unique(bootstrap_sample)))\n",
    "    # Transductive learning of oob samples\n",
    "    f_oob[idx_oob] += model.predict_proba(data_U[idx_oob])\n",
    "    n_oob[idx_oob] += 1\n",
    "predict_proba = f_oob[:, 1]/n_oob"
   ]
  },
  {
   "cell_type": "markdown",
   "metadata": {},
   "source": [
    "5. наконец, посчитаем Precision, Recall и оптимальный порог и посмотрим, как наш алгоритм справился (ведь мы для наших данных знаем реальные метки классов)"
   ]
  },
  {
   "cell_type": "code",
   "execution_count": 4,
   "metadata": {},
   "outputs": [
    {
     "data": {
      "image/png": "[encoded data removed]",
      "text/plain": [
       "<Figure size 864x288 with 3 Axes>"
      ]
     },
     "metadata": {
      "needs_background": "light"
     },
     "output_type": "display_data"
    }
   ],
   "source": [
    "# Plot the class probabilities for the unlabeled samples\n",
    "fig = plt.figure(figsize=(12, 4))\n",
    "ax1 = fig.add_subplot(1, 2, 1)\n",
    "sp= ax1.scatter(data_U[:, 0], data_U[:, 1], c=predict_proba, \n",
    "                linewidth=0, s=5, alpha=0.5, cmap=plt.cm.plasma, label='unlabeled')\n",
    "plt.grid()\n",
    "plt.colorbar(sp, label='Class probability on Unlabeled set')\n",
    "\n",
    "true_labels = np.zeros(shape=(data_U.shape[0]))\n",
    "true_labels[:int(len(rp)*(1.0-known_labels_ratio))] = 1.0\n",
    "precision, recall, th = precision_recall_curve(true_labels, predict_proba)\n",
    "ax2 = fig.add_subplot(1, 2, 2)\n",
    "f1s = precision[:-1]*recall[:-1]\n",
    "ax2.plot(th, f1s, linewidth=2, alpha=0.5)\n",
    "best_th = np.argmax(f1s)\n",
    "ax2.plot(th[best_th], f1s[best_th], c='r', marker='o')\n",
    "ax2.plot([th[best_th], th[best_th]], [0.0,f1s[best_th] ], 'r--')\n",
    "ax2.plot([0.0, th[best_th]], [f1s[best_th], f1s[best_th] ], 'r--')\n",
    "ax2.annotate('Pre: %0.3f, Rec: %0.3f' %(precision[best_th], recall[best_th]), \n",
    "             xy=(th[best_th]+ 0.01, f1s[best_th]-0.05))\n",
    "ax2.set_ylabel('F1 score')\n",
    "ax2.set_xlabel('Probability threshold')\n",
    "plt.grid()\n"
   ]
  },
  {
   "cell_type": "markdown",
   "metadata": {},
   "source": [
    "Видим, что наши данные очень неплохо разделяются и хорошие показатели pr/rec"
   ]
  },
  {
   "cell_type": "markdown",
   "metadata": {},
   "source": [
    "### ПЕРЕРЫВ до 20:49 (МСК)"
   ]
  },
  {
   "cell_type": "markdown",
   "metadata": {},
   "source": [
    "### Пример 2"
   ]
  },
  {
   "cell_type": "markdown",
   "metadata": {},
   "source": [
    "Есть аудитория магазина и покупки за некоторый период\n",
    "\n",
    "Датасет предметов (товаров):"
   ]
  },
  {
   "cell_type": "code",
   "execution_count": 5,
   "metadata": {},
   "outputs": [
    {
     "name": "stdout",
     "output_type": "stream",
     "text": [
      "Num unique items: 10237\n",
      "Num unique categories: 10\n"
     ]
    },
    {
     "data": {
      "text/html": [
       "<div>\n",
       "<style scoped>\n",
       "    .dataframe tbody tr th:only-of-type {\n",
       "        vertical-align: middle;\n",
       "    }\n",
       "\n",
       "    .dataframe tbody tr th {\n",
       "        vertical-align: top;\n",
       "    }\n",
       "\n",
       "    .dataframe thead th {\n",
       "        text-align: right;\n",
       "    }\n",
       "</style>\n",
       "<table border=\"1\" class=\"dataframe\">\n",
       "  <thead>\n",
       "    <tr style=\"text-align: right;\">\n",
       "      <th></th>\n",
       "      <th>Name</th>\n",
       "      <th>item_category</th>\n",
       "      <th>item_brand</th>\n",
       "      <th>item_weight</th>\n",
       "      <th>item_type</th>\n",
       "    </tr>\n",
       "  </thead>\n",
       "  <tbody>\n",
       "    <tr>\n",
       "      <th>0</th>\n",
       "      <td>зубная паста лакалют актив 75мл</td>\n",
       "      <td>Красота, гигиена, бытовая химия</td>\n",
       "      <td>splat</td>\n",
       "      <td>75мл</td>\n",
       "      <td>зубная паста</td>\n",
       "    </tr>\n",
       "    <tr>\n",
       "      <th>1</th>\n",
       "      <td>зубная паста лакалют сенситив 75мл</td>\n",
       "      <td>Красота, гигиена, бытовая химия</td>\n",
       "      <td>splat</td>\n",
       "      <td>75мл</td>\n",
       "      <td>зубная паста</td>\n",
       "    </tr>\n",
       "    <tr>\n",
       "      <th>2</th>\n",
       "      <td>зубная паста лесной бальзам ромашка и облепиха...</td>\n",
       "      <td>Красота, гигиена, бытовая химия</td>\n",
       "      <td>лесной бальзам</td>\n",
       "      <td>NaN</td>\n",
       "      <td>зубная паста</td>\n",
       "    </tr>\n",
       "  </tbody>\n",
       "</table>\n",
       "</div>"
      ],
      "text/plain": [
       "                                                Name  \\\n",
       "0                    зубная паста лакалют актив 75мл   \n",
       "1                 зубная паста лакалют сенситив 75мл   \n",
       "2  зубная паста лесной бальзам ромашка и облепиха...   \n",
       "\n",
       "                     item_category      item_brand item_weight     item_type  \n",
       "0  Красота, гигиена, бытовая химия           splat        75мл  зубная паста  \n",
       "1  Красота, гигиена, бытовая химия           splat        75мл  зубная паста  \n",
       "2  Красота, гигиена, бытовая химия  лесной бальзам         NaN  зубная паста  "
      ]
     },
     "execution_count": 5,
     "metadata": {},
     "output_type": "execute_result"
    }
   ],
   "source": [
    "import numpy as np\n",
    "import pandas as pd\n",
    "from sklearn.pipeline import Pipeline, make_pipeline\n",
    "from sklearn.base import BaseEstimator, TransformerMixin\n",
    "from sklearn.linear_model import LogisticRegression\n",
    "from sklearn.model_selection import train_test_split\n",
    "from sklearn.feature_extraction.text import TfidfVectorizer\n",
    "import itertools\n",
    "\n",
    "import matplotlib.pyplot as plt\n",
    "\n",
    "%matplotlib inline\n",
    "\n",
    "\n",
    "items = pd.read_csv(\"items.csv\")\n",
    "print(\"Num unique items: {}\\nNum unique categories: {}\".format(items.shape[0], \n",
    "                                                                len(items['item_type'].unique())))\n",
    "items.head(3)"
   ]
  },
  {
   "cell_type": "markdown",
   "metadata": {},
   "source": [
    "Покупки"
   ]
  },
  {
   "cell_type": "code",
   "execution_count": 6,
   "metadata": {},
   "outputs": [
    {
     "name": "stdout",
     "output_type": "stream",
     "text": [
      "Num unique users: 32000\n"
     ]
    },
    {
     "data": {
      "text/html": [
       "<div>\n",
       "<style scoped>\n",
       "    .dataframe tbody tr th:only-of-type {\n",
       "        vertical-align: middle;\n",
       "    }\n",
       "\n",
       "    .dataframe tbody tr th {\n",
       "        vertical-align: top;\n",
       "    }\n",
       "\n",
       "    .dataframe thead th {\n",
       "        text-align: right;\n",
       "    }\n",
       "</style>\n",
       "<table border=\"1\" class=\"dataframe\">\n",
       "  <thead>\n",
       "    <tr style=\"text-align: right;\">\n",
       "      <th></th>\n",
       "      <th>user_id</th>\n",
       "      <th>Name</th>\n",
       "    </tr>\n",
       "  </thead>\n",
       "  <tbody>\n",
       "    <tr>\n",
       "      <th>0</th>\n",
       "      <td>ed6b1aaf-21df-5b75-9b7f-ed67926cd17c</td>\n",
       "      <td>шоколад \"alpen gold\" белый с миндалем и кокосо...</td>\n",
       "    </tr>\n",
       "    <tr>\n",
       "      <th>1</th>\n",
       "      <td>ba82ad84-3a19-5a91-8e1e-7fd87628afb4</td>\n",
       "      <td>пюре тема говядина с гречкой с 8 месяцев</td>\n",
       "    </tr>\n",
       "    <tr>\n",
       "      <th>2</th>\n",
       "      <td>74a2856d-f0ec-59a6-89f3-1f80b294e852</td>\n",
       "      <td>колбаса микоян сервелат кремлевский варено-коп...</td>\n",
       "    </tr>\n",
       "  </tbody>\n",
       "</table>\n",
       "</div>"
      ],
      "text/plain": [
       "                                user_id  \\\n",
       "0  ed6b1aaf-21df-5b75-9b7f-ed67926cd17c   \n",
       "1  ba82ad84-3a19-5a91-8e1e-7fd87628afb4   \n",
       "2  74a2856d-f0ec-59a6-89f3-1f80b294e852   \n",
       "\n",
       "                                                Name  \n",
       "0  шоколад \"alpen gold\" белый с миндалем и кокосо...  \n",
       "1           пюре тема говядина с гречкой с 8 месяцев  \n",
       "2  колбаса микоян сервелат кремлевский варено-коп...  "
      ]
     },
     "execution_count": 6,
     "metadata": {},
     "output_type": "execute_result"
    }
   ],
   "source": [
    "purchases = pd.read_csv(\"purchases.csv\")\n",
    "print(\"Num unique users: {}\".format(len(purchases['user_id'].unique())))\n",
    "purchases.columns = ['user_id', 'Name']\n",
    "purchases.head(3)"
   ]
  },
  {
   "cell_type": "markdown",
   "metadata": {},
   "source": [
    "#### Задача: Нужно провести акцию с предложением чая (со скидкой) 5 тысячам пользователей (всего у нас 32 тысячи)"
   ]
  },
  {
   "cell_type": "markdown",
   "metadata": {},
   "source": [
    "Варианты решения задачи:\n",
    "1. Случайная выборка\n",
    "2. Что-то более умное (сведем все к задаче lookalike)"
   ]
  },
  {
   "cell_type": "markdown",
   "metadata": {},
   "source": [
    "Возможный алгоритм:\n",
    "1. Выбираем по базе тех, кто покупал чай ранее - это наши позитивы \n",
    "2. Решаем задачу бинарной классификации (lookalike)\n",
    "3. Скорим нашу аудиторию\n",
    "4. Берем топ 5 тысяч\n",
    "5. Запускаем рекламную кампанию"
   ]
  },
  {
   "cell_type": "markdown",
   "metadata": {},
   "source": [
    "Далее дожидаемся окончания кампании и анализируем результаты"
   ]
  },
  {
   "cell_type": "markdown",
   "metadata": {},
   "source": [
    "Для начала поджойним предметы и покупки"
   ]
  },
  {
   "cell_type": "code",
   "execution_count": 7,
   "metadata": {},
   "outputs": [
    {
     "data": {
      "text/html": [
       "<div>\n",
       "<style scoped>\n",
       "    .dataframe tbody tr th:only-of-type {\n",
       "        vertical-align: middle;\n",
       "    }\n",
       "\n",
       "    .dataframe tbody tr th {\n",
       "        vertical-align: top;\n",
       "    }\n",
       "\n",
       "    .dataframe thead th {\n",
       "        text-align: right;\n",
       "    }\n",
       "</style>\n",
       "<table border=\"1\" class=\"dataframe\">\n",
       "  <thead>\n",
       "    <tr style=\"text-align: right;\">\n",
       "      <th></th>\n",
       "      <th>user_id</th>\n",
       "      <th>Name</th>\n",
       "      <th>item_category</th>\n",
       "      <th>item_brand</th>\n",
       "      <th>item_weight</th>\n",
       "      <th>item_type</th>\n",
       "    </tr>\n",
       "  </thead>\n",
       "  <tbody>\n",
       "    <tr>\n",
       "      <th>0</th>\n",
       "      <td>ed6b1aaf-21df-5b75-9b7f-ed67926cd17c</td>\n",
       "      <td>шоколад \"alpen gold\" белый с миндалем и кокосо...</td>\n",
       "      <td>Хлеб, сладости, снеки</td>\n",
       "      <td>alpen gold</td>\n",
       "      <td>90г</td>\n",
       "      <td>шоколад</td>\n",
       "    </tr>\n",
       "    <tr>\n",
       "      <th>1</th>\n",
       "      <td>b4a10859-3f8c-5dc1-8d5d-5977f9aa8bde</td>\n",
       "      <td>шоколад \"alpen gold\" белый с миндалем и кокосо...</td>\n",
       "      <td>Хлеб, сладости, снеки</td>\n",
       "      <td>alpen gold</td>\n",
       "      <td>90г</td>\n",
       "      <td>шоколад</td>\n",
       "    </tr>\n",
       "    <tr>\n",
       "      <th>2</th>\n",
       "      <td>464053f2-ead4-500e-8486-9d5d66c1bbd7</td>\n",
       "      <td>шоколад \"alpen gold\" белый с миндалем и кокосо...</td>\n",
       "      <td>Хлеб, сладости, снеки</td>\n",
       "      <td>alpen gold</td>\n",
       "      <td>90г</td>\n",
       "      <td>шоколад</td>\n",
       "    </tr>\n",
       "  </tbody>\n",
       "</table>\n",
       "</div>"
      ],
      "text/plain": [
       "                                user_id  \\\n",
       "0  ed6b1aaf-21df-5b75-9b7f-ed67926cd17c   \n",
       "1  b4a10859-3f8c-5dc1-8d5d-5977f9aa8bde   \n",
       "2  464053f2-ead4-500e-8486-9d5d66c1bbd7   \n",
       "\n",
       "                                                Name          item_category  \\\n",
       "0  шоколад \"alpen gold\" белый с миндалем и кокосо...  Хлеб, сладости, снеки   \n",
       "1  шоколад \"alpen gold\" белый с миндалем и кокосо...  Хлеб, сладости, снеки   \n",
       "2  шоколад \"alpen gold\" белый с миндалем и кокосо...  Хлеб, сладости, снеки   \n",
       "\n",
       "   item_brand item_weight item_type  \n",
       "0  alpen gold         90г   шоколад  \n",
       "1  alpen gold         90г   шоколад  \n",
       "2  alpen gold         90г   шоколад  "
      ]
     },
     "execution_count": 7,
     "metadata": {},
     "output_type": "execute_result"
    }
   ],
   "source": [
    "purchases = pd.merge(purchases, items)\n",
    "purchases.head(3)"
   ]
  },
  {
   "cell_type": "markdown",
   "metadata": {},
   "source": [
    "Теперь посмотрим сколько у нас было пользователей, покупавших ранее чай"
   ]
  },
  {
   "cell_type": "code",
   "execution_count": 8,
   "metadata": {},
   "outputs": [
    {
     "data": {
      "text/plain": [
       "1360"
      ]
     },
     "execution_count": 8,
     "metadata": {},
     "output_type": "execute_result"
    }
   ],
   "source": [
    "len(purchases[purchases['item_type']=='чай']['user_id'].unique())"
   ]
  },
  {
   "cell_type": "markdown",
   "metadata": {},
   "source": [
    "1360 любителей чая (нам нужно 5000 по условию задачи). \n",
    "\n",
    "Давайте разметим наш датасет (все кто покупал чай в прошлом - метка 1) - это класс 1. \n",
    "\n",
    "Мы предполагаем, что людям со схожими на класс 1 предпочтениями и покупками (но не покупавшие чай), также понравится и чай. На этом предположении мы и двигаемся дальше. "
   ]
  },
  {
   "cell_type": "code",
   "execution_count": 9,
   "metadata": {},
   "outputs": [],
   "source": [
    "purchases['y'] = purchases['item_type'].apply(lambda x: 1 if x=='чай' else 0, 1)"
   ]
  },
  {
   "cell_type": "markdown",
   "metadata": {},
   "source": [
    "Попробуем для начала использовать просто список прошлых покупок (поле Name)"
   ]
  },
  {
   "cell_type": "code",
   "execution_count": 10,
   "metadata": {},
   "outputs": [
    {
     "data": {
      "text/html": [
       "<div>\n",
       "<style scoped>\n",
       "    .dataframe tbody tr th:only-of-type {\n",
       "        vertical-align: middle;\n",
       "    }\n",
       "\n",
       "    .dataframe tbody tr th {\n",
       "        vertical-align: top;\n",
       "    }\n",
       "\n",
       "    .dataframe thead th {\n",
       "        text-align: right;\n",
       "    }\n",
       "</style>\n",
       "<table border=\"1\" class=\"dataframe\">\n",
       "  <thead>\n",
       "    <tr style=\"text-align: right;\">\n",
       "      <th></th>\n",
       "      <th>user_id</th>\n",
       "      <th>last_purchases</th>\n",
       "      <th>y</th>\n",
       "    </tr>\n",
       "  </thead>\n",
       "  <tbody>\n",
       "    <tr>\n",
       "      <th>0</th>\n",
       "      <td>00002f01-66e4-5ab8-8d1a-1562a4ddd418</td>\n",
       "      <td>[зубная паста splat stress off антистресс 75мл...</td>\n",
       "      <td>0</td>\n",
       "    </tr>\n",
       "    <tr>\n",
       "      <th>1</th>\n",
       "      <td>0000fed8-b063-51ef-8ca4-c42c5bd022ad</td>\n",
       "      <td>[шоколад schogetten black &amp; white молочный с к...</td>\n",
       "      <td>0</td>\n",
       "    </tr>\n",
       "    <tr>\n",
       "      <th>2</th>\n",
       "      <td>0004cfe8-bcb2-5a2c-904b-643e0469cbe3</td>\n",
       "      <td>[шоколад воздушный темный 85г, сыр белебеевски...</td>\n",
       "      <td>0</td>\n",
       "    </tr>\n",
       "  </tbody>\n",
       "</table>\n",
       "</div>"
      ],
      "text/plain": [
       "                                user_id  \\\n",
       "0  00002f01-66e4-5ab8-8d1a-1562a4ddd418   \n",
       "1  0000fed8-b063-51ef-8ca4-c42c5bd022ad   \n",
       "2  0004cfe8-bcb2-5a2c-904b-643e0469cbe3   \n",
       "\n",
       "                                      last_purchases  y  \n",
       "0  [зубная паста splat stress off антистресс 75мл...  0  \n",
       "1  [шоколад schogetten black & white молочный с к...  0  \n",
       "2  [шоколад воздушный темный 85г, сыр белебеевски...  0  "
      ]
     },
     "execution_count": 10,
     "metadata": {},
     "output_type": "execute_result"
    }
   ],
   "source": [
    "X = purchases.groupby(['user_id']).agg({'Name': lambda x: list(x), \n",
    "                                    'y': lambda x: max(x)})\n",
    "X['user_id'] = [i for i in X.index.values]\n",
    "X.columns = ['last_purchases', 'y', 'user_id']\n",
    "X = X[['user_id', 'last_purchases', 'y']]\n",
    "X.index = range(len(X))\n",
    "X.head(3)"
   ]
  },
  {
   "cell_type": "markdown",
   "metadata": {},
   "source": [
    "Посмотрим на соотношение классов (P vs U), где P - позитивы и U - все остальные неразмеченные данные"
   ]
  },
  {
   "cell_type": "code",
   "execution_count": 11,
   "metadata": {},
   "outputs": [
    {
     "data": {
      "text/plain": [
       "0    30640\n",
       "1     1360\n",
       "Name: y, dtype: int64"
      ]
     },
     "execution_count": 11,
     "metadata": {},
     "output_type": "execute_result"
    }
   ],
   "source": [
    "X['y'].value_counts()"
   ]
  },
  {
   "cell_type": "code",
   "execution_count": 12,
   "metadata": {},
   "outputs": [],
   "source": [
    "X['last_purchases'] = X['last_purchases'].apply(lambda x: \" \".join(x), 1)"
   ]
  },
  {
   "cell_type": "markdown",
   "metadata": {},
   "source": [
    "Будем используем обычный random negative sample"
   ]
  },
  {
   "cell_type": "code",
   "execution_count": 13,
   "metadata": {},
   "outputs": [],
   "source": [
    "#разделим данные на train/test\n",
    "X_train, X_test, y_train, y_test = train_test_split(X, X['y'], random_state=0)"
   ]
  },
  {
   "cell_type": "markdown",
   "metadata": {},
   "source": [
    "У нас есть разметка (известные позитивы) и поле last_purchases (список покупок) из которого мы можем извлекать признаки. В качестве признаков будем использовать tfidf"
   ]
  },
  {
   "cell_type": "code",
   "execution_count": 14,
   "metadata": {},
   "outputs": [],
   "source": [
    "#соберем наш простой pipeline, но нам понадобится написать класс для выбора нужного поля\n",
    "\n",
    "class FeatureSelector(BaseEstimator, TransformerMixin):\n",
    "    def __init__(self, column):\n",
    "        self.column = column\n",
    "\n",
    "    def fit(self, X, y=None):\n",
    "        return self\n",
    "\n",
    "    def transform(self, X, y=None):\n",
    "        return X[self.column]\n",
    "\n",
    "pipeline = Pipeline([('last_purchases_selector', FeatureSelector(column='last_purchases')), \n",
    "                     ('last_purchases_tfidf', TfidfVectorizer()), \n",
    "                     ('clf', LogisticRegression())])"
   ]
  },
  {
   "cell_type": "code",
   "execution_count": 15,
   "metadata": {},
   "outputs": [
    {
     "data": {
      "text/plain": [
       "Pipeline(steps=[('last_purchases_selector',\n",
       "                 FeatureSelector(column='last_purchases')),\n",
       "                ('last_purchases_tfidf', TfidfVectorizer()),\n",
       "                ('clf', LogisticRegression())])"
      ]
     },
     "execution_count": 15,
     "metadata": {},
     "output_type": "execute_result"
    }
   ],
   "source": [
    "#обучим наш пайплайн\n",
    "pipeline.fit(X_train, y_train)"
   ]
  },
  {
   "cell_type": "markdown",
   "metadata": {},
   "source": [
    "Получим прогнозы для \"тестовой\" выборки"
   ]
  },
  {
   "cell_type": "code",
   "execution_count": 16,
   "metadata": {},
   "outputs": [
    {
     "data": {
      "text/plain": [
       "array([0.00987465, 0.00454258, 0.00221269, 0.02663074, 0.00402058,\n",
       "       0.02508175, 0.00269904, 0.11747235, 0.01075453, 0.0036021 ])"
      ]
     },
     "execution_count": 16,
     "metadata": {},
     "output_type": "execute_result"
    }
   ],
   "source": [
    "#наши прогнозы для тестовой выборки\n",
    "preds = pipeline.predict_proba(X_test)[:, 1]\n",
    "preds[:10]"
   ]
  },
  {
   "cell_type": "code",
   "execution_count": 17,
   "metadata": {},
   "outputs": [
    {
     "name": "stdout",
     "output_type": "stream",
     "text": [
      "Best Threshold=0.289859, F-Score=0.973, Precision=0.980, Recall=0.966\n"
     ]
    }
   ],
   "source": [
    "from sklearn.metrics import f1_score, roc_auc_score, precision_score, classification_report, precision_recall_curve, confusion_matrix\n",
    "\n",
    "precision, recall, thresholds = precision_recall_curve(y_test, preds)\n",
    "fscore = (2 * precision * recall) / (precision + recall)\n",
    "# locate the index of the largest f score\n",
    "ix = np.argmax(fscore)\n",
    "print('Best Threshold=%f, F-Score=%.3f, Precision=%.3f, Recall=%.3f' % (thresholds[ix], \n",
    "                                                                        fscore[ix],\n",
    "                                                                        precision[ix],\n",
    "                                                                        recall[ix]))"
   ]
  },
  {
   "cell_type": "markdown",
   "metadata": {},
   "source": [
    "Довольно неплохие на первый взгляд метрики. Давайте теперь проскорим всю выборку и отсортируем по убыванию прогноза (ведь нам в итоге нужно взять топ 5000 пользователей)"
   ]
  },
  {
   "cell_type": "code",
   "execution_count": 18,
   "metadata": {},
   "outputs": [
    {
     "data": {
      "text/html": [
       "<div>\n",
       "<style scoped>\n",
       "    .dataframe tbody tr th:only-of-type {\n",
       "        vertical-align: middle;\n",
       "    }\n",
       "\n",
       "    .dataframe tbody tr th {\n",
       "        vertical-align: top;\n",
       "    }\n",
       "\n",
       "    .dataframe thead th {\n",
       "        text-align: right;\n",
       "    }\n",
       "</style>\n",
       "<table border=\"1\" class=\"dataframe\">\n",
       "  <thead>\n",
       "    <tr style=\"text-align: right;\">\n",
       "      <th></th>\n",
       "      <th>user_id</th>\n",
       "      <th>last_purchases</th>\n",
       "      <th>y</th>\n",
       "      <th>y_pred</th>\n",
       "    </tr>\n",
       "  </thead>\n",
       "  <tbody>\n",
       "    <tr>\n",
       "      <th>1675</th>\n",
       "      <td>0d2f872b-6a49-5e95-9f2b-3ec9f9365dc6</td>\n",
       "      <td>чай dammann зеленый с жасмином, 25пак*2г корм ...</td>\n",
       "      <td>1</td>\n",
       "      <td>0.999988</td>\n",
       "    </tr>\n",
       "    <tr>\n",
       "      <th>19586</th>\n",
       "      <td>9c753d40-22ef-5491-b907-ff76f03d2044</td>\n",
       "      <td>шоколад chokodelika темный с грецким орехом 16...</td>\n",
       "      <td>1</td>\n",
       "      <td>0.999952</td>\n",
       "    </tr>\n",
       "    <tr>\n",
       "      <th>15436</th>\n",
       "      <td>7c615620-53bf-59ce-8186-8d4f88ceca73</td>\n",
       "      <td>шоколад lindt creation тёмный с мятой 0,15кг н...</td>\n",
       "      <td>1</td>\n",
       "      <td>0.999933</td>\n",
       "    </tr>\n",
       "  </tbody>\n",
       "</table>\n",
       "</div>"
      ],
      "text/plain": [
       "                                    user_id  \\\n",
       "1675   0d2f872b-6a49-5e95-9f2b-3ec9f9365dc6   \n",
       "19586  9c753d40-22ef-5491-b907-ff76f03d2044   \n",
       "15436  7c615620-53bf-59ce-8186-8d4f88ceca73   \n",
       "\n",
       "                                          last_purchases  y    y_pred  \n",
       "1675   чай dammann зеленый с жасмином, 25пак*2г корм ...  1  0.999988  \n",
       "19586  шоколад chokodelika темный с грецким орехом 16...  1  0.999952  \n",
       "15436  шоколад lindt creation тёмный с мятой 0,15кг н...  1  0.999933  "
      ]
     },
     "execution_count": 18,
     "metadata": {},
     "output_type": "execute_result"
    }
   ],
   "source": [
    "X['y_pred'] = pipeline.predict_proba(X)[:, 1]\n",
    "X = X.sort_values('y_pred', ascending=False)\n",
    "X.head(3)"
   ]
  },
  {
   "cell_type": "markdown",
   "metadata": {},
   "source": [
    "Наконец, возьмем наши топ 5000 пользователей"
   ]
  },
  {
   "cell_type": "code",
   "execution_count": 19,
   "metadata": {},
   "outputs": [],
   "source": [
    "selected_users = X.iloc[:5000]['user_id'].values"
   ]
  },
  {
   "cell_type": "markdown",
   "metadata": {},
   "source": [
    "Давайте попробуем понять, чем они отличаются от всех остальных (если отличаются вообще)"
   ]
  },
  {
   "cell_type": "code",
   "execution_count": 20,
   "metadata": {},
   "outputs": [
    {
     "data": {
      "text/plain": [
       "кофе            0.22604\n",
       "шоколад         0.20240\n",
       "напиток         0.13028\n",
       "шампунь         0.12380\n",
       "чай             0.06292\n",
       "сыр             0.06284\n",
       "зубная паста    0.05548\n",
       "колбаса         0.05180\n",
       "пюре            0.04372\n",
       "корм            0.04072\n",
       "Name: item_type, dtype: float64"
      ]
     },
     "execution_count": 20,
     "metadata": {},
     "output_type": "execute_result"
    }
   ],
   "source": [
    "purchases[purchases['user_id'].isin(selected_users)]['item_type'].value_counts(normalize=True)"
   ]
  },
  {
   "cell_type": "code",
   "execution_count": 21,
   "metadata": {},
   "outputs": [
    {
     "data": {
      "text/plain": [
       "колбаса         0.224785\n",
       "зубная паста    0.178756\n",
       "корм            0.125830\n",
       "шоколад         0.105156\n",
       "шампунь         0.097193\n",
       "напиток         0.096600\n",
       "сыр             0.065822\n",
       "кофе            0.054111\n",
       "пюре            0.051748\n",
       "Name: item_type, dtype: float64"
      ]
     },
     "execution_count": 21,
     "metadata": {},
     "output_type": "execute_result"
    }
   ],
   "source": [
    "purchases[~purchases['user_id'].isin(selected_users)]['item_type'].value_counts(normalize=True)"
   ]
  },
  {
   "cell_type": "markdown",
   "metadata": {},
   "source": [
    "Посмотрим на feature_importances"
   ]
  },
  {
   "cell_type": "code",
   "execution_count": 22,
   "metadata": {},
   "outputs": [
    {
     "data": {
      "text/plain": [
       "array(['чай', 'черный', '25пак', 'листовой', 'зеленый', '2г', 'fuzetea',\n",
       "       'greenfield', '20', 'байховый', '20пак', 'ahmad', '8г',\n",
       "       'пакетиков', '100пак', '25', 'крупнолистовой', 'tess', 'curtis',\n",
       "       'травяной', 'richard', 'майский', '5г', 'ароматом', 'grey',\n",
       "       'hyleys', 'dammann', 'принцесса', 'basilur', 'the', 'цейлонский',\n",
       "       'ceylon', 'шиповник', 'maitre', 'milford', 'азерчай', '20п',\n",
       "       'nadin', 'китайский', 'newby', 'de', 'пирамидках', 'mlesna', '50г',\n",
       "       'пирамидок', 'жасмином', 'sonnentor', 'earl', 'чабрецом', 'нури',\n",
       "       'vитамин', 'twinings', 'грей', 'green', 'гармония', '200г',\n",
       "       'витацентр', 'английский', '20пир', 'айдиго', 'жень', 'японски',\n",
       "       'тянь', 'цейлон', 'индийский', 'ромашка', 'природы', '75л',\n",
       "       'grace', 'akbar', 'чёрный', 'ява', 'collection', 'добавками',\n",
       "       'иван', 'улун', 'riston', 'холодный', '25шт', 'вкусов',\n",
       "       'среднелистовой', 'breakfast', '0г', 'юдзу', 'дракон', 'мелиссой',\n",
       "       'пакетированный', '100г', 'эрл', 'hilltop', 'kwinst', 'english',\n",
       "       'ассорти', '40г', 'arizona', 'шкатулка', 'музыкальная', 'отборный',\n",
       "       'жасмин', 'панда'], dtype=object)"
      ]
     },
     "execution_count": 22,
     "metadata": {},
     "output_type": "execute_result"
    }
   ],
   "source": [
    "feature_names = [i for i in pipeline.named_steps[\"last_purchases_tfidf\"].get_feature_names()]\n",
    "feature_weights = [i for i in pipeline.named_steps[\"clf\"].coef_[0]]\n",
    "weights = pd.DataFrame({'feature_name': feature_names,\n",
    "              'feature_weight': feature_weights}).sort_values('feature_weight', ascending=False)\n",
    "#топ 100 слов\n",
    "weights['feature_name'].iloc[:100].values"
   ]
  },
  {
   "cell_type": "markdown",
   "metadata": {},
   "source": [
    "Понятно, что если в названии покупки есть что-то про чай, то это явный маркер для классификатора, что это объект класса 1. \n",
    "\n",
    "Также по распределению категорий видно также что топ5000 существенно отличаются от остальных"
   ]
  },
  {
   "cell_type": "markdown",
   "metadata": {},
   "source": [
    "<b>Вопрос:</b> Как вы думаете, что нужно делать дальше и как проверять \"пользу\" полученной модели на практике?"
   ]
  },
  {
   "cell_type": "markdown",
   "metadata": {},
   "source": [
    "<b>Ваш ответ здесь: </b>"
   ]
  },
  {
   "cell_type": "markdown",
   "metadata": {},
   "source": [
    "### Краткие выводы"
   ]
  },
  {
   "cell_type": "markdown",
   "metadata": {},
   "source": [
    "Positive-Unlabeled (PU) learning можно перевести как «обучение на основе положительных и неразмеченных данных». \n",
    "\n",
    "По сути, PU learning —  это аналог бинарной классификация для случаев, когда имеются размеченные данные только одного из классов, но доступна неразмеченная смесь данных обоих классов. \n",
    "\n",
    "В общем случае мы даже не знаем, сколько данных в смеси соответствует положительному классу, а сколько — отрицательному. На основе таких наборов данных мы хотим построить бинарный классификатор: такой же, как и при наличии размеченных данных обоих классов."
   ]
  },
  {
   "cell_type": "markdown",
   "metadata": {},
   "source": [
    "В рекламе одна из важнейших прикладных задач - lookalike. Часто она решается именно как задача PU"
   ]
  },
  {
   "cell_type": "markdown",
   "metadata": {},
   "source": [
    "### Ссылки:"
   ]
  },
  {
   "cell_type": "markdown",
   "metadata": {},
   "source": [
    "1. https://arxiv.org/pdf/1811.04820.pdf\n",
    "2. https://habr.com/ru/company/JetBrains-education/blog/512032/\n",
    "3. https://en.wikipedia.org/wiki/Bootstrap_aggregating\n",
    "4. https://www.cs.uic.edu/~liub/publications/EMNLP-2010-no-negative.pdf\n",
    "5. https://towardsdatascience.com/lookalikes-finding-needles-in-a-haystack-683bae8fdfff"
   ]
  },
  {
   "cell_type": "code",
   "execution_count": null,
   "metadata": {},
   "outputs": [],
   "source": []
  }
 ],
 "metadata": {
  "kernelspec": {
   "display_name": "Python 3",
   "language": "python",
   "name": "python3"
  },
  "language_info": {
   "codemirror_mode": {
    "name": "ipython",
    "version": 3
   },
   "file_extension": ".py",
   "mimetype": "text/x-python",
   "name": "python",
   "nbconvert_exporter": "python",
   "pygments_lexer": "ipython3",
   "version": "3.7.6"
  }
 },
 "nbformat": 4,
 "nbformat_minor": 2
}
