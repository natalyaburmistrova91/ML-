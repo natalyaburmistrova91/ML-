{
 "cells": [
  {
   "cell_type": "markdown",
   "metadata": {},
   "source": [
    "### Проверка того, что наше api работает\n",
    "\n",
    "Перед началом необходимо собрать docker-образ и запустить контейнер\n",
    "\n",
    "1. Следовать инструкциям https://github.com/fimochka-sudo/GB_docker_flask_example/blob/main/README.md\n",
    "2. Далее уже запускать код ниже"
   ]
  },
  {
   "cell_type": "code",
   "execution_count": 15,
   "metadata": {},
   "outputs": [],
   "source": [
    "import pandas as pd\n",
    "from urllib import request, parse\n",
    "from sklearn.model_selection import train_test_split\n",
    "from sklearn.metrics import f1_score, roc_auc_score, precision_score"
   ]
  },
  {
   "cell_type": "code",
   "execution_count": 6,
   "metadata": {},
   "outputs": [
    {
     "data": {
      "text/html": [
       "<div>\n",
       "<style scoped>\n",
       "    .dataframe tbody tr th:only-of-type {\n",
       "        vertical-align: middle;\n",
       "    }\n",
       "\n",
       "    .dataframe tbody tr th {\n",
       "        vertical-align: top;\n",
       "    }\n",
       "\n",
       "    .dataframe thead th {\n",
       "        text-align: right;\n",
       "    }\n",
       "</style>\n",
       "<table border=\"1\" class=\"dataframe\">\n",
       "  <thead>\n",
       "    <tr style=\"text-align: right;\">\n",
       "      <th></th>\n",
       "      <th>type</th>\n",
       "      <th>posts</th>\n",
       "    </tr>\n",
       "  </thead>\n",
       "  <tbody>\n",
       "    <tr>\n",
       "      <th>4587</th>\n",
       "      <td>ISFP</td>\n",
       "      <td>'Dear ISFJ Mother, I wish you were less of a w...</td>\n",
       "    </tr>\n",
       "    <tr>\n",
       "      <th>2786</th>\n",
       "      <td>INFJ</td>\n",
       "      <td>'To me, I think you guys may be over analyzing...</td>\n",
       "    </tr>\n",
       "    <tr>\n",
       "      <th>2813</th>\n",
       "      <td>ENFP</td>\n",
       "      <td>'NIHM While NIHM has her INTJ husband, I've go...</td>\n",
       "    </tr>\n",
       "  </tbody>\n",
       "</table>\n",
       "</div>"
      ],
      "text/plain": [
       "      type                                              posts\n",
       "4587  ISFP  'Dear ISFJ Mother, I wish you were less of a w...\n",
       "2786  INFJ  'To me, I think you guys may be over analyzing...\n",
       "2813  ENFP  'NIHM While NIHM has her INTJ husband, I've go..."
      ]
     },
     "execution_count": 6,
     "metadata": {},
     "output_type": "execute_result"
    }
   ],
   "source": [
    "comments = pd.read_csv(\"mbti_1.csv\")\n",
    "X_train, X_test, y_train, y_test = train_test_split(comments, comments['type'], random_state=0)\n",
    "X_test.head(3)"
   ]
  },
  {
   "cell_type": "code",
   "execution_count": 7,
   "metadata": {},
   "outputs": [],
   "source": [
    "import urllib.request\n",
    "import json      \n",
    "\n",
    "\n",
    "def get_prediction(posts):\n",
    "    body = {'posts': posts} \n",
    "    myurl = \"http://localhost:8180/predict\"\n",
    "    req = urllib.request.Request(myurl)\n",
    "    req.add_header('Content-Type', 'application/json; charset=utf-8')\n",
    "    jsondata = json.dumps(body)\n",
    "    jsondataasbytes = jsondata.encode('utf-8')   # needs to be bytes\n",
    "    req.add_header('Content-Length', len(jsondataasbytes))\n",
    "    #print (jsondataasbytes)\n",
    "    response = urllib.request.urlopen(req, jsondataasbytes)\n",
    "    return json.loads(response.read())['predictions']"
   ]
  },
  {
   "cell_type": "code",
   "execution_count": 20,
   "metadata": {
    "scrolled": true
   },
   "outputs": [
    {
     "data": {
      "text/plain": [
       "'INTP'"
      ]
     },
     "execution_count": 20,
     "metadata": {},
     "output_type": "execute_result"
    }
   ],
   "source": [
    "get_prediction('hello darkness my old friend')"
   ]
  },
  {
   "cell_type": "code",
   "execution_count": 19,
   "metadata": {},
   "outputs": [
    {
     "data": {
      "text/plain": [
       "\"'To me, I think you guys may be over analyzing it a bit. I know I do this often with friends, whether I mean to or not. I even usually realize that I do it and can't help myself. So since this sounds...|||I definitely do not think it is just an ENTP thing. I am INFJ and have refused to jump through hoops for anyone for most of my life. I was raised to follow all of these stupid little rules of social...|||For one of the millions of applications I have submitted to get recognized and to get hired. And hot chocolate in front of a giant bonfire.|||Hmm, I have never heard of that, but it does make sense. Thanks for posting.|||I tend to go through these periods too. It seems like I keep going back and forth between two phases, wanting to be close to people and feeling extremely lonely and the other phase is where I tend to...|||I have to completely agree with her also. She hit it dead on the nose. INFxs tend to have strong emotions, but we do not display them as much as you would think. Just because you feel like she isn't...|||I regularly have lucid dreams. Typically I will have discussions with friends, family, coworkers, etc. in my dreams and they are so realistic, that I can't remember if I actually had that...|||I like to make up strange stories about everyday things too. Whether it be about random people in the mall or animals I see. When my boyfriend (INTP) asks me what I am thinking about I will spin this...|||I completely understand what you mean. I get the same vibe. I remember one time driving on the highway and suddenly it felt like I hit this intense wall of sadness and suddenly started bawling as I...|||All my life I have been able to feel most people's energy and emotion. Some people exude their energy and emotions stronger than others and the more logical types, Ts rather than Fs, seem to have...|||I think the most horrifying thing about being an INFJ is going back and forth between phases where I would like to be closely connected with friends and pushing people away. Sometimes I feel so...|||I completely understand what you mean. When I hear uplifting songs, songs of joy, love songs, etc. I feel an intense high that is simply amazing. Oddly enough for me, when I am in a completely...|||I have done the singing lessons and all and really miss it. Now that I am attending college full time and have a job, I have little time and money to dedicate to singing and the lessons. I have tried...|||LOL, that is hilarious! They don't creep me out at all, in fact I tend to enjoy their company than other type. They probably weren't used to situations like that in a small town. I thought the whole...|||This seems to be a typical trait seen with people with repressive parents and most INFJs I have talked to. My bf began to tackle this problem I had with simply allowing me to make all decisions. I...|||Lol, no just things that I will most likely do anyways, like paying for insurance, loan, credit card, etc. Things I will most likely be doing anyways but list just in case. Definitely not anything...|||Sometimes I make to-do lists just so I can feel productive :laughing:. I will list stupid little things that I know I will have to get done throughout the day and as I go, I cross them off so I know...|||I also obsess about music. My playlist consists of:  1. I and Love and You by The Avett Brothers 2. If I Die Young by The Band Perry 3. Love Shack by B-52's  4. Your Song by Elton John 5. Never...|||And you thought yours was a long post :tongue:.|||Seeing as I am an INFJ who is dating an INTP who had to go through almost all the same stuff it sounds like you are going though, I will try and help you to understand some of this.    I have...|||I would have to say that I have issues with self esteem also. I seem to never be perfect enough. It is either something wrong with my body, my personality, etc. I can never reach a perfect shape,...|||I find grieving one of the hardest things for me to do. I usually try to hold it all in until it is acceptable to let it out (most of the time I have to be strong for others and will not allow myself...|||I feel free when I am allowed to be me and not have to put on a mask for anyone and act a certain way in order to fit into the situation as I tend to do, and when I am excepted by others when being...|||I am very obsessive. I am currently watching The Princess Bride, the same movie I fell in love with when I was about 8 and had my mom rent from Blockbuster repeatedly. 13 Years later, I am still...|||You know you are an INFJ when you distance yourself for others, yet ache from loneliness; you help others even though you know there will be negative consequences; and people say that you care too...|||LOL I totally meant my bf's cat and 2 great danes. I now see how that could have been taken like that though. It is funny though because my bf's cat pretty much rules over the 2 huge dogs. He thinks...|||-Reading -People Watching -Kayaking -White Water Rafting -Tubing -History research (books, History channel, etc.) -Deep thoughtful conversations -Hanging with the bf and his family -My cat,...|||It is no fun following the norm, don't bother worrying about if you are abnormal or not. I prefer to be abnormal :tongue:.|||Another September.|||Lol, no worries. Sometimes I have the personality of an INTJ, but have not crossed the line to it solely because of the fact that I understand people and emotions and can't get over the empathy I...|||I have been dating my INTP boyfriend for three years so far and have loved every moment. In fact, it was his awkwardness, intellect, quick wit, and such that attracted me to him. I love INTP men. I...|||Hmm, I have yet to test my own parents yet, but I will definitely have to now just to find out how it would turn out. I would have to say that my mom would be an ENFP and my father would have to be...|||I can't believe I am about to say all this, but I think it needs to be let out. What better place than this? So here it goes:  1.I am controlling over my boyfriend and get extremely jealous all...|||Definitely a night owl. I love to sleep, don't get me wrong. But yet, I find that I just can't sleep, and don't really want to sleep, until late in the night. Lately the norm is about 3-6 hours a...|||I have always pondered about this question. Was my personality more the result of my own life experiences? My upbringing? My parents' personalities? My birth order? Genetics? Which one was the main...|||I am a red head and have been all of my life. Because of this, I have had to face people who hated me and wanted to fight me for really no reason other than the fact that I was different. Because of...|||I am a red head and have been all of my life. Because of this, I have had to face people who hated me and wanted to fight me for really no reason other than the fact that I was different. Because of...|||Well I would have to say some of the weirdest things about me are that even though I have red hair, I have very light brown eyebrows; I have a scar on my lip to the left of my cupid's bow thanks to...|||You are extremely lucky to have close friends who understand you so well.|||I am curious how that is working out for you. I have this same type of attitude, but yet the usual is that not one person seems to stick around to show that they want to be close to me in any way...|||I feel the same way. If the person has a much different personality than me or has a different outlook on life than me, thus having something to learn, then usually I will have a great friendship...|||I have also had this problem. I have different roles that I play for different people depending on the situation. It is also frustrating to me to try and sift through it all to find out who I...|||My bf is an INTP. We have been dating for about 3 years and it is amazing. It can be difficult at times because we are so different, but our differences are really a reason why our relationship is so...|||The Hitchhiker's Guide to the Galaxy by Douglas Adams  This book will make you look completely different about the world and is written completely different than you have ever seen or will ever...|||YES! I always find myself in that same war. I am so glad that it wasn't just me feeling this way! I have few friends, but those are still the ones that mostly I am contacting. The people that I would...|||I am currently in college for Elementary Ed so I have to consider all of these things currently, how I would like my classroom. For a college setting, I would say loosely structured, with a lesson...|||I am the one that everyone goes to if they have a question about anything; need a ride somewhere; are angry, upset, etc.; and if there is an argument. I am the moderator, nurturer, best friend, and...|||I would say that your mindset is not bad at all, in fact quite healthy. I think that there should be no reason to rush into anything with a man unless you really want to. It is better to wait for a...|||I am very picky when it comes to close friendships. I have many people who are casual friends who I hang out with occasionally, but there are few close friends. In friendships, I either don't click...|||21 yr old Female  It all depends on the guy I am with. With my ex, I was distant, shy, quite, and really quite uninvolved in the relationship because to tell the truth, I was testing the dating...'\""
      ]
     },
     "execution_count": 19,
     "metadata": {},
     "output_type": "execute_result"
    }
   ],
   "source": [
    "X_test['posts'][2786]"
   ]
  },
  {
   "cell_type": "code",
   "execution_count": 18,
   "metadata": {},
   "outputs": [
    {
     "data": {
      "text/plain": [
       "4587    'Dear ISFJ Mother, I wish you were less of a w...\n",
       "2786    'To me, I think you guys may be over analyzing...\n",
       "2813    'NIHM While NIHM has her INTJ husband, I've go...\n",
       "3705    'I want 5 kids: - an astro/nuclear/theoretical...\n",
       "5957    'I have the same thing as well. I've noticed t...\n",
       "                              ...                        \n",
       "4493    'lol i think i can fall in love with every typ...\n",
       "6543    'icicle84   The hymns are really beautiful!! B...\n",
       "8271    'I have absolutely no idea who Lemons is. Just...\n",
       "2026    'I'm loud, I speak fast, and I am an INTJ. So....\n",
       "6346    'maybe the things you observed on yourself are...\n",
       "Name: posts, Length: 500, dtype: object"
      ]
     },
     "execution_count": 18,
     "metadata": {},
     "output_type": "execute_result"
    }
   ],
   "source": [
    "X_test['posts'].iloc[:500]"
   ]
  },
  {
   "cell_type": "code",
   "execution_count": 12,
   "metadata": {},
   "outputs": [
    {
     "name": "stdout",
     "output_type": "stream",
     "text": [
      "CPU times: user 499 ms, sys: 147 ms, total: 646 ms\n",
      "Wall time: 25.2 s\n"
     ]
    }
   ],
   "source": [
    "%%time\n",
    "predictions = X_test['posts'].iloc[:500].apply(lambda x: get_prediction(x), 1)"
   ]
  },
  {
   "cell_type": "code",
   "execution_count": 13,
   "metadata": {},
   "outputs": [
    {
     "data": {
      "text/plain": [
       "4587    INTP\n",
       "2786    INFJ\n",
       "2813    ENFP\n",
       "3705    INTJ\n",
       "5957    ENFP\n",
       "        ... \n",
       "4493    ENFP\n",
       "6543    INFP\n",
       "8271    ENFP\n",
       "2026    INFP\n",
       "6346    INFP\n",
       "Name: posts, Length: 500, dtype: object"
      ]
     },
     "execution_count": 13,
     "metadata": {},
     "output_type": "execute_result"
    }
   ],
   "source": [
    "predictions"
   ]
  },
  {
   "cell_type": "code",
   "execution_count": 16,
   "metadata": {},
   "outputs": [
    {
     "name": "stdout",
     "output_type": "stream",
     "text": [
      "0.428\n",
      "0.2417903925300635\n",
      "0.41606693400259787\n",
      "0.428\n",
      "0.2751201758675218\n",
      "0.4301062462333739\n"
     ]
    }
   ],
   "source": [
    "print(f1_score(y_test.iloc[:500], predictions, average='micro'))\n",
    "print(f1_score(y_test.iloc[:500], predictions, average='macro'))\n",
    "print(f1_score(y_test.iloc[:500], predictions, average='weighted'))\n",
    "print(precision_score(y_test.iloc[:500], predictions, average='micro'))\n",
    "print(precision_score(y_test.iloc[:500], predictions, average='macro'))\n",
    "print(precision_score(y_test.iloc[:500], predictions, average='weighted'))"
   ]
  },
  {
   "cell_type": "code",
   "execution_count": null,
   "metadata": {},
   "outputs": [],
   "source": []
  }
 ],
 "metadata": {
  "kernelspec": {
   "display_name": "Python 3",
   "language": "python",
   "name": "python3"
  },
  "language_info": {
   "codemirror_mode": {
    "name": "ipython",
    "version": 3
   },
   "file_extension": ".py",
   "mimetype": "text/x-python",
   "name": "python",
   "nbconvert_exporter": "python",
   "pygments_lexer": "ipython3",
   "version": "3.8.5"
  }
 },
 "nbformat": 4,
 "nbformat_minor": 2
}
